{
  "nbformat": 4,
  "nbformat_minor": 0,
  "metadata": {
    "colab": {
      "provenance": []
    },
    "kernelspec": {
      "name": "python3",
      "display_name": "Python 3"
    },
    "language_info": {
      "name": "python"
    }
  },
  "cells": [
    {
      "cell_type": "markdown",
      "source": [
        "# Passo 1: Integrar e autenticar o Colab com o Google Drive"
      ],
      "metadata": {
        "id": "QQs036SrtIPw"
      }
    },
    {
      "cell_type": "markdown",
      "source": [
        "Instalando gspread"
      ],
      "metadata": {
        "id": "SghunMi8tXli"
      }
    },
    {
      "cell_type": "code",
      "source": [
        "!pip install gspread"
      ],
      "metadata": {
        "colab": {
          "base_uri": "https://localhost:8080/"
        },
        "id": "9DIeqVhCtMYE",
        "outputId": "7d38ba98-fbb9-4e70-a19d-8323b258a7b7"
      },
      "execution_count": 1,
      "outputs": [
        {
          "output_type": "stream",
          "name": "stdout",
          "text": [
            "Looking in indexes: https://pypi.org/simple, https://us-python.pkg.dev/colab-wheels/public/simple/\n",
            "Requirement already satisfied: gspread in /usr/local/lib/python3.8/dist-packages (3.4.2)\n",
            "Requirement already satisfied: requests>=2.2.1 in /usr/local/lib/python3.8/dist-packages (from gspread) (2.23.0)\n",
            "Requirement already satisfied: google-auth in /usr/local/lib/python3.8/dist-packages (from gspread) (2.15.0)\n",
            "Requirement already satisfied: idna<3,>=2.5 in /usr/local/lib/python3.8/dist-packages (from requests>=2.2.1->gspread) (2.10)\n",
            "Requirement already satisfied: certifi>=2017.4.17 in /usr/local/lib/python3.8/dist-packages (from requests>=2.2.1->gspread) (2022.12.7)\n",
            "Requirement already satisfied: chardet<4,>=3.0.2 in /usr/local/lib/python3.8/dist-packages (from requests>=2.2.1->gspread) (3.0.4)\n",
            "Requirement already satisfied: urllib3!=1.25.0,!=1.25.1,<1.26,>=1.21.1 in /usr/local/lib/python3.8/dist-packages (from requests>=2.2.1->gspread) (1.24.3)\n",
            "Requirement already satisfied: six>=1.9.0 in /usr/local/lib/python3.8/dist-packages (from google-auth->gspread) (1.15.0)\n",
            "Requirement already satisfied: cachetools<6.0,>=2.0.0 in /usr/local/lib/python3.8/dist-packages (from google-auth->gspread) (5.2.0)\n",
            "Requirement already satisfied: pyasn1-modules>=0.2.1 in /usr/local/lib/python3.8/dist-packages (from google-auth->gspread) (0.2.8)\n",
            "Requirement already satisfied: rsa<5,>=3.1.4 in /usr/local/lib/python3.8/dist-packages (from google-auth->gspread) (4.9)\n",
            "Requirement already satisfied: pyasn1<0.5.0,>=0.4.6 in /usr/local/lib/python3.8/dist-packages (from pyasn1-modules>=0.2.1->google-auth->gspread) (0.4.8)\n"
          ]
        }
      ]
    },
    {
      "cell_type": "markdown",
      "source": [
        "Importando as bibliotecas e autenticando"
      ],
      "metadata": {
        "id": "yGfAKSvEtlAR"
      }
    },
    {
      "cell_type": "code",
      "source": [
        "from google.colab import auth\n",
        "auth.authenticate_user()\n",
        "\n",
        "import gspread\n",
        "from google.auth import default\n",
        "creds, _ = default()\n",
        "\n",
        "gc = gspread.authorize(creds)"
      ],
      "metadata": {
        "id": "Brtm9kg4tnpz"
      },
      "execution_count": 2,
      "outputs": []
    },
    {
      "cell_type": "markdown",
      "source": [
        "# Passo 2: Acessar e formatar as planilhas das promessas"
      ],
      "metadata": {
        "id": "Ucq8H2vxtx59"
      }
    },
    {
      "cell_type": "markdown",
      "source": [
        "Importar pacotes"
      ],
      "metadata": {
        "id": "Ggwlq6tAzc4f"
      }
    },
    {
      "cell_type": "code",
      "source": [
        "import pandas as pd\n",
        "pd.set_option('max_rows', 100)"
      ],
      "metadata": {
        "id": "uiGN3zuywLPz"
      },
      "execution_count": 30,
      "outputs": []
    },
    {
      "cell_type": "markdown",
      "source": [
        "Importar planilhas"
      ],
      "metadata": {
        "id": "1zGFDgbQzgt0"
      }
    },
    {
      "cell_type": "code",
      "source": [
        "plan_ac = gc.open('Promessas - Gladson Cameli - AC - 2019')\n",
        "plan_am = gc.open('Promessas - Wilson Lima - AM - 2019')\n",
        "plan_ap = gc.open('Promessas - Waldez Góes - AP - 2019')\n",
        "plan_ba = gc.open('Promessas - Rui Costa - BA - 2019')\n",
        "plan_ce = gc.open('Promessas - Camilo Santana - CE - 2019')\n",
        "plan_df = gc.open('Promessas - Ibaneis Rocha - DF - 2019')\n",
        "plan_es = gc.open('Promessas - Renato Casagrande - ES - 2019')\n",
        "plan_go = gc.open('Promessas - Ronaldo Caiado - GO - 2019')\n",
        "plan_ma = gc.open('Promessas - Flávio Dino - MA - 2019')\n",
        "plan_mg = gc.open('Promessas - Romeu Zema - MG - 2019')\n",
        "plan_ms = gc.open('Promessas - Reinaldo Azambuja - MS - 2019')\n",
        "plan_mt = gc.open('Promessas - Mauro Mendes - MT - 2019')\n",
        "plan_pa = gc.open('Promessas - Helder Barbalho - PA - 2019')\n",
        "plan_pb = gc.open('Promessas - João Azevêdo - PB - 2019')\n",
        "plan_pe = gc.open('Promessas - Paulo Câmara - PE - 2019')\n",
        "plan_pi = gc.open('Promessas - Wellington Dias - PI - 2019')\n",
        "plan_pr = gc.open('Promessas - Ratinho Junior - PR - 2019')\n",
        "plan_rj = gc.open('Promessas - Wilson Witzel - RJ - 2019')\n",
        "plan_rn = gc.open('Promessas - Fátima Bezerra - RN - 2019')\n",
        "plan_ro = gc.open('Promessas - Coronel Marcos Rocha - RO - 2019')\n",
        "plan_rr = gc.open('Promessas - Antonio Denarium - RR - 2019')\n",
        "plan_rs = gc.open('Promessas - Eduardo Leite - RS - 2019')\n",
        "plan_sc = gc.open('Promessas - Comandante Moisés - SC - 2019')\n",
        "plan_se = gc.open('Promessas - Belivaldo Chagas - SE - 2019')\n",
        "plan_sp = gc.open('Promessas - João Doria - SP - 2019')\n",
        "plan_to = gc.open('Promessas - Mauro Carlesse - TO - 2019')"
      ],
      "metadata": {
        "id": "Yceo6mwFziIA"
      },
      "execution_count": 34,
      "outputs": []
    },
    {
      "cell_type": "markdown",
      "source": [
        "Transformar planilhas em worksheet"
      ],
      "metadata": {
        "id": "2tvYYr-Pzk_S"
      }
    },
    {
      "cell_type": "code",
      "source": [
        "work_ac = plan_ac.sheet1\n",
        "work_am = plan_am.sheet1\n",
        "work_ap = plan_ap.sheet1\n",
        "work_ba = plan_ba.sheet1\n",
        "work_ce = plan_ce.sheet1\n",
        "work_df = plan_df.sheet1\n",
        "work_es = plan_es.sheet1\n",
        "work_go = plan_go.sheet1\n",
        "work_ma = plan_ma.sheet1\n",
        "work_mg = plan_mg.sheet1\n",
        "work_ms = plan_ms.sheet1\n",
        "work_mt = plan_mt.sheet1\n",
        "work_pa = plan_pa.sheet1\n",
        "work_pb = plan_pb.sheet1\n",
        "work_pe = plan_pe.sheet1\n",
        "work_pi = plan_pi.sheet1\n",
        "work_pr = plan_pr.sheet1\n",
        "work_rj = plan_rj.sheet1\n",
        "work_rn = plan_rn.sheet1\n",
        "work_ro = plan_ro.sheet1\n",
        "work_rr = plan_rr.sheet1\n",
        "work_rs = plan_rs.sheet1\n",
        "work_sc = plan_sc.sheet1\n",
        "work_se = plan_se.sheet1\n",
        "work_sp = plan_sp.sheet1\n",
        "work_to = plan_to.sheet1"
      ],
      "metadata": {
        "id": "YQRj6kfSzpmB"
      },
      "execution_count": 35,
      "outputs": []
    },
    {
      "cell_type": "markdown",
      "source": [
        "Transformar worksheet em DataFrame"
      ],
      "metadata": {
        "id": "qgGaQnbezskL"
      }
    },
    {
      "cell_type": "code",
      "source": [
        "ac_gov_dez_22 = pd.DataFrame(work_ac.get_all_records())\n",
        "am_gov_dez_22 = pd.DataFrame(work_am.get_all_records())\n",
        "ap_gov_dez_22 = pd.DataFrame(work_ap.get_all_records())\n",
        "ba_gov_dez_22 = pd.DataFrame(work_ba.get_all_records())\n",
        "ce_gov_dez_22 = pd.DataFrame(work_ce.get_all_records())\n",
        "df_gov_dez_22 = pd.DataFrame(work_df.get_all_records())\n",
        "es_gov_dez_22 = pd.DataFrame(work_es.get_all_records())\n",
        "go_gov_dez_22 = pd.DataFrame(work_go.get_all_records())\n",
        "ma_gov_dez_22 = pd.DataFrame(work_ma.get_all_records())\n",
        "mg_gov_dez_22 = pd.DataFrame(work_mg.get_all_records())\n",
        "ms_gov_dez_22 = pd.DataFrame(work_ms.get_all_records())\n",
        "mt_gov_dez_22 = pd.DataFrame(work_mt.get_all_records())\n",
        "pa_gov_dez_22 = pd.DataFrame(work_pa.get_all_records())\n",
        "pb_gov_dez_22 = pd.DataFrame(work_pb.get_all_records())\n",
        "pe_gov_dez_22 = pd.DataFrame(work_pe.get_all_records())\n",
        "pi_gov_dez_22 = pd.DataFrame(work_pi.get_all_records())\n",
        "pr_gov_dez_22 = pd.DataFrame(work_pr.get_all_records())\n",
        "rj_gov_dez_22 = pd.DataFrame(work_rj.get_all_records())\n",
        "rn_gov_dez_22 = pd.DataFrame(work_rn.get_all_records())\n",
        "ro_gov_dez_22 = pd.DataFrame(work_ro.get_all_records())\n",
        "rr_gov_dez_22 = pd.DataFrame(work_rr.get_all_records())\n",
        "rs_gov_dez_22 = pd.DataFrame(work_rs.get_all_records())\n",
        "sc_gov_dez_22 = pd.DataFrame(work_sc.get_all_records())\n",
        "se_gov_dez_22 = pd.DataFrame(work_se.get_all_records())\n",
        "sp_gov_dez_22 = pd.DataFrame(work_sp.get_all_records())\n",
        "to_gov_dez_22 = pd.DataFrame(work_to.get_all_records())"
      ],
      "metadata": {
        "id": "S_4pX2j0zwRo"
      },
      "execution_count": 36,
      "outputs": []
    },
    {
      "cell_type": "markdown",
      "source": [
        "Adicionar coluna de UF"
      ],
      "metadata": {
        "id": "zk_vaF2UEVhR"
      }
    },
    {
      "cell_type": "code",
      "source": [
        "ac_gov_dez_22['uf'] = 'AC'\n",
        "am_gov_dez_22['uf'] = 'AM'\n",
        "ap_gov_dez_22['uf'] = 'AP'\n",
        "ba_gov_dez_22['uf'] = 'BA'\n",
        "ce_gov_dez_22['uf'] = 'CE'\n",
        "df_gov_dez_22['uf'] = 'DF'\n",
        "es_gov_dez_22['uf'] = 'ES'\n",
        "go_gov_dez_22['uf'] = 'GO'\n",
        "ma_gov_dez_22['uf'] = 'MA'\n",
        "mg_gov_dez_22['uf'] = 'MG'\n",
        "ms_gov_dez_22['uf'] = 'MS'\n",
        "mt_gov_dez_22['uf'] = 'MT'\n",
        "pa_gov_dez_22['uf'] = 'PA'\n",
        "pb_gov_dez_22['uf'] = 'PB'\n",
        "pe_gov_dez_22['uf'] = 'PE'\n",
        "pi_gov_dez_22['uf'] = 'PI'\n",
        "pr_gov_dez_22['uf'] = 'PR'\n",
        "rj_gov_dez_22['uf'] = 'RJ'\n",
        "rn_gov_dez_22['uf'] = 'RN'\n",
        "ro_gov_dez_22['uf'] = 'RO'\n",
        "rr_gov_dez_22['uf'] = 'RR'\n",
        "rs_gov_dez_22['uf'] = 'RS'\n",
        "sc_gov_dez_22['uf'] = 'SC'\n",
        "se_gov_dez_22['uf'] = 'SE'\n",
        "sp_gov_dez_22['uf'] = 'SP'\n",
        "to_gov_dez_22['uf'] = 'TO'"
      ],
      "metadata": {
        "id": "8kjNHb_oEYlA"
      },
      "execution_count": 37,
      "outputs": []
    },
    {
      "cell_type": "markdown",
      "source": [
        "Juntar planilhas em apenas um arquivo"
      ],
      "metadata": {
        "id": "DCV1mjHDzW0F"
      }
    },
    {
      "cell_type": "code",
      "source": [
        "promessas_gov_dez_22 = pd.concat([ac_gov_dez_22, \n",
        "                                  am_gov_dez_22, \n",
        "                                  ap_gov_dez_22, \n",
        "                                  ba_gov_dez_22, \n",
        "                                  ce_gov_dez_22,\n",
        "                                  df_gov_dez_22,\n",
        "                                  es_gov_dez_22,\n",
        "                                  go_gov_dez_22, \n",
        "                                  ma_gov_dez_22,\n",
        "                                  mg_gov_dez_22,\n",
        "                                  ms_gov_dez_22,\n",
        "                                  mt_gov_dez_22,\n",
        "                                  pa_gov_dez_22,\n",
        "                                  pe_gov_dez_22,\n",
        "                                  pb_gov_dez_22,\n",
        "                                  pi_gov_dez_22,\n",
        "                                  pr_gov_dez_22,\n",
        "                                  rj_gov_dez_22,\n",
        "                                  rn_gov_dez_22,\n",
        "                                  ro_gov_dez_22,\n",
        "                                  rr_gov_dez_22,\n",
        "                                  rs_gov_dez_22,\n",
        "                                  sc_gov_dez_22,\n",
        "                                  se_gov_dez_22,\n",
        "                                  sp_gov_dez_22,\n",
        "                                  to_gov_dez_22])"
      ],
      "metadata": {
        "id": "2jdBP0As8-fW"
      },
      "execution_count": 38,
      "outputs": []
    },
    {
      "cell_type": "markdown",
      "source": [
        "Verificar informações"
      ],
      "metadata": {
        "id": "6JDJ8eEtAsPS"
      }
    },
    {
      "cell_type": "code",
      "source": [
        "print(promessas_gov_dez_22.info())"
      ],
      "metadata": {
        "colab": {
          "base_uri": "https://localhost:8080/"
        },
        "id": "YmQCI6CqALtx",
        "outputId": "ae45a1e5-0fff-44c1-c9db-cac723302b34"
      },
      "execution_count": 39,
      "outputs": [
        {
          "output_type": "stream",
          "name": "stdout",
          "text": [
            "<class 'pandas.core.frame.DataFrame'>\n",
            "Int64Index: 1118 entries, 0 to 28\n",
            "Data columns (total 16 columns):\n",
            " #   Column                                           Non-Null Count  Dtype \n",
            "---  ------                                           --------------  ----- \n",
            " 0   categoria                                        1048 non-null   object\n",
            " 1   tema                                             1118 non-null   object\n",
            " 2   promessa                                         1118 non-null   object\n",
            " 3   resumo                                           1118 non-null   object\n",
            " 4   textoEvidencia                                   1118 non-null   object\n",
            " 5   linkPromessa                                     1118 non-null   object\n",
            " 6   status                                           1118 non-null   object\n",
            " 7   textoLightbox                                    1118 non-null   object\n",
            " 8   leiaMais                                         1118 non-null   object\n",
            " 9   id                                               1118 non-null   int64 \n",
            " 10  uf                                               1118 non-null   object\n",
            " 11  status antigo                                    238 non-null    object\n",
            " 12  textoLightbox antigo                             238 non-null    object\n",
            " 13                                                   519 non-null    object\n",
            " 14  promessas-g1-cms@cms-g1.iam.gserviceaccount.com  70 non-null     object\n",
            " 15  obs (clara)                                      58 non-null     object\n",
            "dtypes: int64(1), object(15)\n",
            "memory usage: 148.5+ KB\n",
            "None\n"
          ]
        }
      ]
    },
    {
      "cell_type": "markdown",
      "source": [
        "Baixar o arquivo em .xlsx"
      ],
      "metadata": {
        "id": "c25Wm4mQAucZ"
      }
    },
    {
      "cell_type": "code",
      "source": [
        "promessas_gov_dez_22.to_excel('promessas_gov_dez_22.xlsx', index = False)"
      ],
      "metadata": {
        "id": "Nx7RdbSrAwPQ"
      },
      "execution_count": 40,
      "outputs": []
    },
    {
      "cell_type": "markdown",
      "source": [
        "# Passo 3: verificar possíveis erros"
      ],
      "metadata": {
        "id": "AqItUMIQ1sEk"
      }
    },
    {
      "cell_type": "markdown",
      "source": [
        "Verificar os nomes das colunas"
      ],
      "metadata": {
        "id": "jjRy6PG516XC"
      }
    },
    {
      "cell_type": "code",
      "source": [
        "#Não deve ter nada além de: categoria', 'tema', 'promessa', 'resumo', 'textoEvidencia', 'linkPromessa', 'status', 'textoLightbox', 'leiaMais', 'id' e 'uf'\n",
        "\n",
        "promessas_gov_dez_22.columns"
      ],
      "metadata": {
        "colab": {
          "base_uri": "https://localhost:8080/"
        },
        "id": "Ng3eaPzR2qC3",
        "outputId": "a62d7a13-fc80-45e9-9765-860bc54cc4b2"
      },
      "execution_count": 41,
      "outputs": [
        {
          "output_type": "execute_result",
          "data": {
            "text/plain": [
              "Index(['categoria', 'tema', 'promessa', 'resumo', 'textoEvidencia',\n",
              "       'linkPromessa', 'status', 'textoLightbox', 'leiaMais', 'id', 'uf',\n",
              "       'status antigo', 'textoLightbox antigo', '',\n",
              "       'promessas-g1-cms@cms-g1.iam.gserviceaccount.com', 'obs (clara)'],\n",
              "      dtype='object')"
            ]
          },
          "metadata": {},
          "execution_count": 41
        }
      ]
    },
    {
      "cell_type": "markdown",
      "source": [
        "Verificar se há status fora da formatação"
      ],
      "metadata": {
        "id": "3aUygrqp1w0g"
      }
    },
    {
      "cell_type": "code",
      "source": [
        "#Os status corretos são os seguintes: 'em-parte', 'cumpriu', 'nao-cumpriu-ainda', 'nao-cumpriu' e 'nao-avaliada'\n",
        "\n",
        "promessas_gov_dez_22['status'].unique()"
      ],
      "metadata": {
        "colab": {
          "base_uri": "https://localhost:8080/"
        },
        "id": "JMu0jVCV3Eow",
        "outputId": "c420b8da-4a07-47e1-f066-170ef751c17b"
      },
      "execution_count": 42,
      "outputs": [
        {
          "output_type": "execute_result",
          "data": {
            "text/plain": [
              "array(['em-parte', 'cumpriu', 'nao-cumpriu ', 'nao-cumpriu', '',\n",
              "       'em-parte ', 'cumpriu ', 'nao-avaliada'], dtype=object)"
            ]
          },
          "metadata": {},
          "execution_count": 42
        }
      ]
    },
    {
      "cell_type": "code",
      "source": [
        "#Caso apareça algum status errado no resultado acima, alterar o texto abaixo para saber em que planilha e promessa o erro está. Alterar em '== 'STATUS_ERRADO_AQUI''.\n",
        "#Lembrando que espaço no final do status também é erro e deve ser corrigido.\n",
        "\n",
        "status_erro = promessas_gov_dez_22[promessas_gov_dez_22['status'] == 'cumpriu ']\n",
        "status_erro"
      ],
      "metadata": {
        "colab": {
          "base_uri": "https://localhost:8080/",
          "height": 1000
        },
        "id": "cI55Em3H_G48",
        "outputId": "8db244f8-8185-444b-9ac4-da0f2150f609"
      },
      "execution_count": 48,
      "outputs": [
        {
          "output_type": "execute_result",
          "data": {
            "text/plain": [
              "                      categoria                         tema  \\\n",
              "6                      economia                     Economia   \n",
              "0                 administracao                Administração   \n",
              "2    direitos-humanos-e-sociais   Direitos humanos e sociais   \n",
              "3                      economia                     Economia   \n",
              "4                      economia                     Economia   \n",
              "5            educacao-e-cultura           Educação e cultura   \n",
              "6            educacao-e-cultura           Educação e cultura   \n",
              "8                       esporte                      Esporte   \n",
              "9                     habitacao                    Habitação   \n",
              "10                    habitacao                    Habitação   \n",
              "11                    habitacao                    Habitação   \n",
              "12               infraestrutura               Infraestrutura   \n",
              "17  meio-ambiente-e-agronegocio  Meio ambiente e agronegócio   \n",
              "23            seguranca-publica            Segurança pública   \n",
              "\n",
              "                                             promessa  \\\n",
              "6   Criar linhas de financiamento a custos diferen...   \n",
              "0   Fazer nova reforma administrativa com fusão de...   \n",
              "2   Implementar programas de formação e capacitaçã...   \n",
              "3   Implantar o novo marco regulatório da inovação...   \n",
              "4     Aumentar o número de empregos formais no estado   \n",
              "5   Aumentar o número de escolas com tempo integra...   \n",
              "6   Aumentar a oferta do Vale Universidade e Vale ...   \n",
              "8   Ampliar a oferta do Bolsa-Atleta e do Bolsa-Té...   \n",
              "9   Criar o Programa Substituição de Habitação Pre...   \n",
              "10            Criar o Programa de Reforma e Ampliação   \n",
              "11  Ampliar o Programa Lote Urbanizado em terreno ...   \n",
              "12                     Concluir o Aquário do Pantanal   \n",
              "17  Tornar Mato Grosso do Sul área livre de aftosa...   \n",
              "23  Convocar mais de 1,2 mil aprovados em concurso...   \n",
              "\n",
              "                                               resumo  \\\n",
              "6   Criar linhas de financiamento a custos diferen...   \n",
              "0   Mato Grosso do Sul tem 10 secretarias e 2 empr...   \n",
              "2   Implementar programas de formação e capacitaçã...   \n",
              "3   Implantar o novo marco regulatório da inovação...   \n",
              "4   Promover o aumento do número de empregos formais.   \n",
              "5   Hoje, são 29 escolas em MS que oferecem períod...   \n",
              "6   Em 2018, o governo do estado ofereceu 1.800 be...   \n",
              "8   Em 2018, foram oferecidas 170 bolsas-atletas e...   \n",
              "9   Criar o Programa Substituição de Habitação Pre...   \n",
              "10           Criar o Programa de Reforma e Ampliação.   \n",
              "11  Ampliar o Programa Lote Urbanizado em terreno ...   \n",
              "12  A obra foi iniciada pela gestão anterior e con...   \n",
              "17  Fortalecer a defesa sanitária animal e garanti...   \n",
              "23  Convocar 450 aprovados em concurso e mais o do...   \n",
              "\n",
              "                                       textoEvidencia  \\\n",
              "6             Promessa consta do programa de governo.   \n",
              "0   Promessa feita em entrevista ao MS1, em outubr...   \n",
              "2   Promessa consta do plano de governo entregue a...   \n",
              "3   Promessa consta do plano de governo entregue a...   \n",
              "4   Promessa consta do plano de governo entregue a...   \n",
              "5   Promessa consta do plano de governo entregue a...   \n",
              "6   Promessa consta do plano de governo entregue a...   \n",
              "8   Promessa consta do plano de governo entregue a...   \n",
              "9   Promessa consta do plano de governo entregue a...   \n",
              "10  Promessa consta do plano de governo entregue a...   \n",
              "11  Promessa consta do plano de governo entregue a...   \n",
              "12  Promessa feita no Jogo Eleitoral do G1 no 1° t...   \n",
              "17  Promessa consta do plano de governo entregue a...   \n",
              "23  Promessa feita em entrevista ao MS1, em outubr...   \n",
              "\n",
              "                                         linkPromessa    status  \\\n",
              "6   http://estaticog1.globo.com/2018/11/promessas/...  cumpriu    \n",
              "0   https://g1.globo.com/ms/mato-grosso-do-sul/ele...  cumpriu    \n",
              "2   http://estaticog1.globo.com/2018/11/promessas/...  cumpriu    \n",
              "3   http://estaticog1.globo.com/2018/11/promessas/...  cumpriu    \n",
              "4   http://estaticog1.globo.com/2018/11/promessas/...  cumpriu    \n",
              "5   http://estaticog1.globo.com/2018/11/promessas/...  cumpriu    \n",
              "6   http://estaticog1.globo.com/2018/11/promessas/...  cumpriu    \n",
              "8   http://estaticog1.globo.com/2018/11/promessas/...  cumpriu    \n",
              "9   http://estaticog1.globo.com/2018/11/promessas/...  cumpriu    \n",
              "10  http://estaticog1.globo.com/2018/11/promessas/...  cumpriu    \n",
              "11  http://estaticog1.globo.com/2018/11/promessas/...  cumpriu    \n",
              "12  http://especiais.g1.globo.com/ms/mato-grosso-d...  cumpriu    \n",
              "17  http://estaticog1.globo.com/2018/11/promessas/...  cumpriu    \n",
              "23  https://g1.globo.com/ms/mato-grosso-do-sul/ele...  cumpriu    \n",
              "\n",
              "                                        textoLightbox  \\\n",
              "6   Foram criadas linhas de financiamento para mun...   \n",
              "0   Em maio de 2021, houve a redução de 10 para 9 ...   \n",
              "2   Segundo o governo estadual, 396 policiais mili...   \n",
              "3   A promessa foi cumprida quando o governo edito...   \n",
              "4   Em Mato Grosso do Sul, de janeiro a outubro, q...   \n",
              "5   A promessa foi cumprida. Atualmente, existem 1...   \n",
              "6   O governo ofereceu 2 mil vagas em 2022, o mesm...   \n",
              "8   Em 2022, foram disponibilizadas 346 bolsas-atl...   \n",
              "9   O programa foi criado no início do segundo man...   \n",
              "10  O programa foi criado ainda no primeiro mandat...   \n",
              "11  Em 2019, a execução do projeto, em fase experi...   \n",
              "12  Agora chamado de Bioparque do Pantanal, a obra...   \n",
              "17  Em 30 de maio, o Ministério da Agricultura anu...   \n",
              "23  De 2019 a 2022, 5.612 aprovados em concurso fo...   \n",
              "\n",
              "                                             leiaMais  id  uf status antigo  \\\n",
              "6   https://www.bandes.com.br/Site/Dinamico/Show/9...   7  ES           NaN   \n",
              "0                                                       1  MS           NaN   \n",
              "2                                                       3  MS           NaN   \n",
              "3                                                       4  MS           NaN   \n",
              "4                                                       5  MS           NaN   \n",
              "5                                                       6  MS           NaN   \n",
              "6                                                       7  MS           NaN   \n",
              "8                                                       9  MS           NaN   \n",
              "9                                                      10  MS           NaN   \n",
              "10                                                     11  MS           NaN   \n",
              "11                                                     12  MS           NaN   \n",
              "12                                                     13  MS           NaN   \n",
              "17                                                     18  MS           NaN   \n",
              "23                                                     24  MS           NaN   \n",
              "\n",
              "   textoLightbox antigo   promessas-g1-cms@cms-g1.iam.gserviceaccount.com  \\\n",
              "6                   NaN                                               NaN   \n",
              "0                   NaN                                               NaN   \n",
              "2                   NaN                                               NaN   \n",
              "3                   NaN                                               NaN   \n",
              "4                   NaN                                               NaN   \n",
              "5                   NaN                                               NaN   \n",
              "6                   NaN                                               NaN   \n",
              "8                   NaN                                               NaN   \n",
              "9                   NaN                                               NaN   \n",
              "10                  NaN                                               NaN   \n",
              "11                  NaN                                               NaN   \n",
              "12                  NaN                                               NaN   \n",
              "17                  NaN                                               NaN   \n",
              "23                  NaN                                               NaN   \n",
              "\n",
              "   obs (clara)  \n",
              "6          NaN  \n",
              "0          NaN  \n",
              "2          NaN  \n",
              "3          NaN  \n",
              "4          NaN  \n",
              "5          NaN  \n",
              "6          NaN  \n",
              "8          NaN  \n",
              "9          NaN  \n",
              "10         NaN  \n",
              "11         NaN  \n",
              "12         NaN  \n",
              "17         NaN  \n",
              "23         NaN  "
            ],
            "text/html": [
              "\n",
              "  <div id=\"df-78e684c9-625d-4592-a8d5-63428ac16ee1\">\n",
              "    <div class=\"colab-df-container\">\n",
              "      <div>\n",
              "<style scoped>\n",
              "    .dataframe tbody tr th:only-of-type {\n",
              "        vertical-align: middle;\n",
              "    }\n",
              "\n",
              "    .dataframe tbody tr th {\n",
              "        vertical-align: top;\n",
              "    }\n",
              "\n",
              "    .dataframe thead th {\n",
              "        text-align: right;\n",
              "    }\n",
              "</style>\n",
              "<table border=\"1\" class=\"dataframe\">\n",
              "  <thead>\n",
              "    <tr style=\"text-align: right;\">\n",
              "      <th></th>\n",
              "      <th>categoria</th>\n",
              "      <th>tema</th>\n",
              "      <th>promessa</th>\n",
              "      <th>resumo</th>\n",
              "      <th>textoEvidencia</th>\n",
              "      <th>linkPromessa</th>\n",
              "      <th>status</th>\n",
              "      <th>textoLightbox</th>\n",
              "      <th>leiaMais</th>\n",
              "      <th>id</th>\n",
              "      <th>uf</th>\n",
              "      <th>status antigo</th>\n",
              "      <th>textoLightbox antigo</th>\n",
              "      <th></th>\n",
              "      <th>promessas-g1-cms@cms-g1.iam.gserviceaccount.com</th>\n",
              "      <th>obs (clara)</th>\n",
              "    </tr>\n",
              "  </thead>\n",
              "  <tbody>\n",
              "    <tr>\n",
              "      <th>6</th>\n",
              "      <td>economia</td>\n",
              "      <td>Economia</td>\n",
              "      <td>Criar linhas de financiamento a custos diferen...</td>\n",
              "      <td>Criar linhas de financiamento a custos diferen...</td>\n",
              "      <td>Promessa consta do programa de governo.</td>\n",
              "      <td>http://estaticog1.globo.com/2018/11/promessas/...</td>\n",
              "      <td>cumpriu</td>\n",
              "      <td>Foram criadas linhas de financiamento para mun...</td>\n",
              "      <td>https://www.bandes.com.br/Site/Dinamico/Show/9...</td>\n",
              "      <td>7</td>\n",
              "      <td>ES</td>\n",
              "      <td>NaN</td>\n",
              "      <td>NaN</td>\n",
              "      <td></td>\n",
              "      <td>NaN</td>\n",
              "      <td>NaN</td>\n",
              "    </tr>\n",
              "    <tr>\n",
              "      <th>0</th>\n",
              "      <td>administracao</td>\n",
              "      <td>Administração</td>\n",
              "      <td>Fazer nova reforma administrativa com fusão de...</td>\n",
              "      <td>Mato Grosso do Sul tem 10 secretarias e 2 empr...</td>\n",
              "      <td>Promessa feita em entrevista ao MS1, em outubr...</td>\n",
              "      <td>https://g1.globo.com/ms/mato-grosso-do-sul/ele...</td>\n",
              "      <td>cumpriu</td>\n",
              "      <td>Em maio de 2021, houve a redução de 10 para 9 ...</td>\n",
              "      <td></td>\n",
              "      <td>1</td>\n",
              "      <td>MS</td>\n",
              "      <td>NaN</td>\n",
              "      <td>NaN</td>\n",
              "      <td></td>\n",
              "      <td>NaN</td>\n",
              "      <td>NaN</td>\n",
              "    </tr>\n",
              "    <tr>\n",
              "      <th>2</th>\n",
              "      <td>direitos-humanos-e-sociais</td>\n",
              "      <td>Direitos humanos e sociais</td>\n",
              "      <td>Implementar programas de formação e capacitaçã...</td>\n",
              "      <td>Implementar programas de formação e capacitaçã...</td>\n",
              "      <td>Promessa consta do plano de governo entregue a...</td>\n",
              "      <td>http://estaticog1.globo.com/2018/11/promessas/...</td>\n",
              "      <td>cumpriu</td>\n",
              "      <td>Segundo o governo estadual, 396 policiais mili...</td>\n",
              "      <td></td>\n",
              "      <td>3</td>\n",
              "      <td>MS</td>\n",
              "      <td>NaN</td>\n",
              "      <td>NaN</td>\n",
              "      <td></td>\n",
              "      <td>NaN</td>\n",
              "      <td>NaN</td>\n",
              "    </tr>\n",
              "    <tr>\n",
              "      <th>3</th>\n",
              "      <td>economia</td>\n",
              "      <td>Economia</td>\n",
              "      <td>Implantar o novo marco regulatório da inovação...</td>\n",
              "      <td>Implantar o novo marco regulatório da inovação...</td>\n",
              "      <td>Promessa consta do plano de governo entregue a...</td>\n",
              "      <td>http://estaticog1.globo.com/2018/11/promessas/...</td>\n",
              "      <td>cumpriu</td>\n",
              "      <td>A promessa foi cumprida quando o governo edito...</td>\n",
              "      <td></td>\n",
              "      <td>4</td>\n",
              "      <td>MS</td>\n",
              "      <td>NaN</td>\n",
              "      <td>NaN</td>\n",
              "      <td></td>\n",
              "      <td>NaN</td>\n",
              "      <td>NaN</td>\n",
              "    </tr>\n",
              "    <tr>\n",
              "      <th>4</th>\n",
              "      <td>economia</td>\n",
              "      <td>Economia</td>\n",
              "      <td>Aumentar o número de empregos formais no estado</td>\n",
              "      <td>Promover o aumento do número de empregos formais.</td>\n",
              "      <td>Promessa consta do plano de governo entregue a...</td>\n",
              "      <td>http://estaticog1.globo.com/2018/11/promessas/...</td>\n",
              "      <td>cumpriu</td>\n",
              "      <td>Em Mato Grosso do Sul, de janeiro a outubro, q...</td>\n",
              "      <td></td>\n",
              "      <td>5</td>\n",
              "      <td>MS</td>\n",
              "      <td>NaN</td>\n",
              "      <td>NaN</td>\n",
              "      <td></td>\n",
              "      <td>NaN</td>\n",
              "      <td>NaN</td>\n",
              "    </tr>\n",
              "    <tr>\n",
              "      <th>5</th>\n",
              "      <td>educacao-e-cultura</td>\n",
              "      <td>Educação e cultura</td>\n",
              "      <td>Aumentar o número de escolas com tempo integra...</td>\n",
              "      <td>Hoje, são 29 escolas em MS que oferecem períod...</td>\n",
              "      <td>Promessa consta do plano de governo entregue a...</td>\n",
              "      <td>http://estaticog1.globo.com/2018/11/promessas/...</td>\n",
              "      <td>cumpriu</td>\n",
              "      <td>A promessa foi cumprida. Atualmente, existem 1...</td>\n",
              "      <td></td>\n",
              "      <td>6</td>\n",
              "      <td>MS</td>\n",
              "      <td>NaN</td>\n",
              "      <td>NaN</td>\n",
              "      <td></td>\n",
              "      <td>NaN</td>\n",
              "      <td>NaN</td>\n",
              "    </tr>\n",
              "    <tr>\n",
              "      <th>6</th>\n",
              "      <td>educacao-e-cultura</td>\n",
              "      <td>Educação e cultura</td>\n",
              "      <td>Aumentar a oferta do Vale Universidade e Vale ...</td>\n",
              "      <td>Em 2018, o governo do estado ofereceu 1.800 be...</td>\n",
              "      <td>Promessa consta do plano de governo entregue a...</td>\n",
              "      <td>http://estaticog1.globo.com/2018/11/promessas/...</td>\n",
              "      <td>cumpriu</td>\n",
              "      <td>O governo ofereceu 2 mil vagas em 2022, o mesm...</td>\n",
              "      <td></td>\n",
              "      <td>7</td>\n",
              "      <td>MS</td>\n",
              "      <td>NaN</td>\n",
              "      <td>NaN</td>\n",
              "      <td></td>\n",
              "      <td>NaN</td>\n",
              "      <td>NaN</td>\n",
              "    </tr>\n",
              "    <tr>\n",
              "      <th>8</th>\n",
              "      <td>esporte</td>\n",
              "      <td>Esporte</td>\n",
              "      <td>Ampliar a oferta do Bolsa-Atleta e do Bolsa-Té...</td>\n",
              "      <td>Em 2018, foram oferecidas 170 bolsas-atletas e...</td>\n",
              "      <td>Promessa consta do plano de governo entregue a...</td>\n",
              "      <td>http://estaticog1.globo.com/2018/11/promessas/...</td>\n",
              "      <td>cumpriu</td>\n",
              "      <td>Em 2022, foram disponibilizadas 346 bolsas-atl...</td>\n",
              "      <td></td>\n",
              "      <td>9</td>\n",
              "      <td>MS</td>\n",
              "      <td>NaN</td>\n",
              "      <td>NaN</td>\n",
              "      <td></td>\n",
              "      <td>NaN</td>\n",
              "      <td>NaN</td>\n",
              "    </tr>\n",
              "    <tr>\n",
              "      <th>9</th>\n",
              "      <td>habitacao</td>\n",
              "      <td>Habitação</td>\n",
              "      <td>Criar o Programa Substituição de Habitação Pre...</td>\n",
              "      <td>Criar o Programa Substituição de Habitação Pre...</td>\n",
              "      <td>Promessa consta do plano de governo entregue a...</td>\n",
              "      <td>http://estaticog1.globo.com/2018/11/promessas/...</td>\n",
              "      <td>cumpriu</td>\n",
              "      <td>O programa foi criado no início do segundo man...</td>\n",
              "      <td></td>\n",
              "      <td>10</td>\n",
              "      <td>MS</td>\n",
              "      <td>NaN</td>\n",
              "      <td>NaN</td>\n",
              "      <td></td>\n",
              "      <td>NaN</td>\n",
              "      <td>NaN</td>\n",
              "    </tr>\n",
              "    <tr>\n",
              "      <th>10</th>\n",
              "      <td>habitacao</td>\n",
              "      <td>Habitação</td>\n",
              "      <td>Criar o Programa de Reforma e Ampliação</td>\n",
              "      <td>Criar o Programa de Reforma e Ampliação.</td>\n",
              "      <td>Promessa consta do plano de governo entregue a...</td>\n",
              "      <td>http://estaticog1.globo.com/2018/11/promessas/...</td>\n",
              "      <td>cumpriu</td>\n",
              "      <td>O programa foi criado ainda no primeiro mandat...</td>\n",
              "      <td></td>\n",
              "      <td>11</td>\n",
              "      <td>MS</td>\n",
              "      <td>NaN</td>\n",
              "      <td>NaN</td>\n",
              "      <td></td>\n",
              "      <td>NaN</td>\n",
              "      <td>NaN</td>\n",
              "    </tr>\n",
              "    <tr>\n",
              "      <th>11</th>\n",
              "      <td>habitacao</td>\n",
              "      <td>Habitação</td>\n",
              "      <td>Ampliar o Programa Lote Urbanizado em terreno ...</td>\n",
              "      <td>Ampliar o Programa Lote Urbanizado em terreno ...</td>\n",
              "      <td>Promessa consta do plano de governo entregue a...</td>\n",
              "      <td>http://estaticog1.globo.com/2018/11/promessas/...</td>\n",
              "      <td>cumpriu</td>\n",
              "      <td>Em 2019, a execução do projeto, em fase experi...</td>\n",
              "      <td></td>\n",
              "      <td>12</td>\n",
              "      <td>MS</td>\n",
              "      <td>NaN</td>\n",
              "      <td>NaN</td>\n",
              "      <td></td>\n",
              "      <td>NaN</td>\n",
              "      <td>NaN</td>\n",
              "    </tr>\n",
              "    <tr>\n",
              "      <th>12</th>\n",
              "      <td>infraestrutura</td>\n",
              "      <td>Infraestrutura</td>\n",
              "      <td>Concluir o Aquário do Pantanal</td>\n",
              "      <td>A obra foi iniciada pela gestão anterior e con...</td>\n",
              "      <td>Promessa feita no Jogo Eleitoral do G1 no 1° t...</td>\n",
              "      <td>http://especiais.g1.globo.com/ms/mato-grosso-d...</td>\n",
              "      <td>cumpriu</td>\n",
              "      <td>Agora chamado de Bioparque do Pantanal, a obra...</td>\n",
              "      <td></td>\n",
              "      <td>13</td>\n",
              "      <td>MS</td>\n",
              "      <td>NaN</td>\n",
              "      <td>NaN</td>\n",
              "      <td></td>\n",
              "      <td>NaN</td>\n",
              "      <td>NaN</td>\n",
              "    </tr>\n",
              "    <tr>\n",
              "      <th>17</th>\n",
              "      <td>meio-ambiente-e-agronegocio</td>\n",
              "      <td>Meio ambiente e agronegócio</td>\n",
              "      <td>Tornar Mato Grosso do Sul área livre de aftosa...</td>\n",
              "      <td>Fortalecer a defesa sanitária animal e garanti...</td>\n",
              "      <td>Promessa consta do plano de governo entregue a...</td>\n",
              "      <td>http://estaticog1.globo.com/2018/11/promessas/...</td>\n",
              "      <td>cumpriu</td>\n",
              "      <td>Em 30 de maio, o Ministério da Agricultura anu...</td>\n",
              "      <td></td>\n",
              "      <td>18</td>\n",
              "      <td>MS</td>\n",
              "      <td>NaN</td>\n",
              "      <td>NaN</td>\n",
              "      <td></td>\n",
              "      <td>NaN</td>\n",
              "      <td>NaN</td>\n",
              "    </tr>\n",
              "    <tr>\n",
              "      <th>23</th>\n",
              "      <td>seguranca-publica</td>\n",
              "      <td>Segurança pública</td>\n",
              "      <td>Convocar mais de 1,2 mil aprovados em concurso...</td>\n",
              "      <td>Convocar 450 aprovados em concurso e mais o do...</td>\n",
              "      <td>Promessa feita em entrevista ao MS1, em outubr...</td>\n",
              "      <td>https://g1.globo.com/ms/mato-grosso-do-sul/ele...</td>\n",
              "      <td>cumpriu</td>\n",
              "      <td>De 2019 a 2022, 5.612 aprovados em concurso fo...</td>\n",
              "      <td></td>\n",
              "      <td>24</td>\n",
              "      <td>MS</td>\n",
              "      <td>NaN</td>\n",
              "      <td>NaN</td>\n",
              "      <td></td>\n",
              "      <td>NaN</td>\n",
              "      <td>NaN</td>\n",
              "    </tr>\n",
              "  </tbody>\n",
              "</table>\n",
              "</div>\n",
              "      <button class=\"colab-df-convert\" onclick=\"convertToInteractive('df-78e684c9-625d-4592-a8d5-63428ac16ee1')\"\n",
              "              title=\"Convert this dataframe to an interactive table.\"\n",
              "              style=\"display:none;\">\n",
              "        \n",
              "  <svg xmlns=\"http://www.w3.org/2000/svg\" height=\"24px\"viewBox=\"0 0 24 24\"\n",
              "       width=\"24px\">\n",
              "    <path d=\"M0 0h24v24H0V0z\" fill=\"none\"/>\n",
              "    <path d=\"M18.56 5.44l.94 2.06.94-2.06 2.06-.94-2.06-.94-.94-2.06-.94 2.06-2.06.94zm-11 1L8.5 8.5l.94-2.06 2.06-.94-2.06-.94L8.5 2.5l-.94 2.06-2.06.94zm10 10l.94 2.06.94-2.06 2.06-.94-2.06-.94-.94-2.06-.94 2.06-2.06.94z\"/><path d=\"M17.41 7.96l-1.37-1.37c-.4-.4-.92-.59-1.43-.59-.52 0-1.04.2-1.43.59L10.3 9.45l-7.72 7.72c-.78.78-.78 2.05 0 2.83L4 21.41c.39.39.9.59 1.41.59.51 0 1.02-.2 1.41-.59l7.78-7.78 2.81-2.81c.8-.78.8-2.07 0-2.86zM5.41 20L4 18.59l7.72-7.72 1.47 1.35L5.41 20z\"/>\n",
              "  </svg>\n",
              "      </button>\n",
              "      \n",
              "  <style>\n",
              "    .colab-df-container {\n",
              "      display:flex;\n",
              "      flex-wrap:wrap;\n",
              "      gap: 12px;\n",
              "    }\n",
              "\n",
              "    .colab-df-convert {\n",
              "      background-color: #E8F0FE;\n",
              "      border: none;\n",
              "      border-radius: 50%;\n",
              "      cursor: pointer;\n",
              "      display: none;\n",
              "      fill: #1967D2;\n",
              "      height: 32px;\n",
              "      padding: 0 0 0 0;\n",
              "      width: 32px;\n",
              "    }\n",
              "\n",
              "    .colab-df-convert:hover {\n",
              "      background-color: #E2EBFA;\n",
              "      box-shadow: 0px 1px 2px rgba(60, 64, 67, 0.3), 0px 1px 3px 1px rgba(60, 64, 67, 0.15);\n",
              "      fill: #174EA6;\n",
              "    }\n",
              "\n",
              "    [theme=dark] .colab-df-convert {\n",
              "      background-color: #3B4455;\n",
              "      fill: #D2E3FC;\n",
              "    }\n",
              "\n",
              "    [theme=dark] .colab-df-convert:hover {\n",
              "      background-color: #434B5C;\n",
              "      box-shadow: 0px 1px 3px 1px rgba(0, 0, 0, 0.15);\n",
              "      filter: drop-shadow(0px 1px 2px rgba(0, 0, 0, 0.3));\n",
              "      fill: #FFFFFF;\n",
              "    }\n",
              "  </style>\n",
              "\n",
              "      <script>\n",
              "        const buttonEl =\n",
              "          document.querySelector('#df-78e684c9-625d-4592-a8d5-63428ac16ee1 button.colab-df-convert');\n",
              "        buttonEl.style.display =\n",
              "          google.colab.kernel.accessAllowed ? 'block' : 'none';\n",
              "\n",
              "        async function convertToInteractive(key) {\n",
              "          const element = document.querySelector('#df-78e684c9-625d-4592-a8d5-63428ac16ee1');\n",
              "          const dataTable =\n",
              "            await google.colab.kernel.invokeFunction('convertToInteractive',\n",
              "                                                     [key], {});\n",
              "          if (!dataTable) return;\n",
              "\n",
              "          const docLinkHtml = 'Like what you see? Visit the ' +\n",
              "            '<a target=\"_blank\" href=https://colab.research.google.com/notebooks/data_table.ipynb>data table notebook</a>'\n",
              "            + ' to learn more about interactive tables.';\n",
              "          element.innerHTML = '';\n",
              "          dataTable['output_type'] = 'display_data';\n",
              "          await google.colab.output.renderOutput(dataTable, element);\n",
              "          const docLink = document.createElement('div');\n",
              "          docLink.innerHTML = docLinkHtml;\n",
              "          element.appendChild(docLink);\n",
              "        }\n",
              "      </script>\n",
              "    </div>\n",
              "  </div>\n",
              "  "
            ]
          },
          "metadata": {},
          "execution_count": 48
        }
      ]
    },
    {
      "cell_type": "markdown",
      "source": [
        "Verificar se temas e categorias estão corretos"
      ],
      "metadata": {
        "id": "tV2pQXQV121T"
      }
    },
    {
      "cell_type": "code",
      "source": [
        "#As categorias são as seguintes: 'administracao', 'direitos-humanos-e-sociais', 'economia', 'educacao-e-cultura', 'esporte', 'infraestrutura ', 'meio-ambiente-e-agronegocio', 'saude', 'seguranca-publica', 'transparencia', 'turismo', 'habitacao', 'infraestrutura', 'meio-ambiente', 'mobilidade-urbana'\n",
        "\n",
        "promessas_gov_dez_22['categoria'].unique()"
      ],
      "metadata": {
        "colab": {
          "base_uri": "https://localhost:8080/"
        },
        "id": "HOPvDKtd4AfK",
        "outputId": "dd651705-b9ce-464a-a7ff-85de57df1ad3"
      },
      "execution_count": 49,
      "outputs": [
        {
          "output_type": "execute_result",
          "data": {
            "text/plain": [
              "array(['administracao', 'direitos-humanos-e-sociais', 'economia',\n",
              "       'educacao-e-cultura', 'esporte', 'infraestrutura ',\n",
              "       'meio-ambiente-e-agronegocio', 'saude', 'seguranca-publica',\n",
              "       'transparencia', 'habitacao', 'infraestrutura', 'meio-ambiente',\n",
              "       'mobilidade-urbana', 'turismo', nan], dtype=object)"
            ]
          },
          "metadata": {},
          "execution_count": 49
        }
      ]
    },
    {
      "cell_type": "code",
      "source": [
        "#Os temas são os seguintes: 'Administração', 'Direitos humanos e sociais', 'Economia', 'Educação e cultura', 'Esporte', 'Infraestrutura', 'Meio ambiente e agronegócio', 'Saúde', 'Segurança pública', 'Transparência', 'Turismo', 'Administração', 'Habitação', 'Meio ambiente', 'Mobilidade urbana'\n",
        "\n",
        "promessas_gov_dez_22['tema'].unique()"
      ],
      "metadata": {
        "colab": {
          "base_uri": "https://localhost:8080/"
        },
        "id": "t3LvPhYb_ENb",
        "outputId": "1dbc657a-274d-4875-a5ba-ee85635113f3"
      },
      "execution_count": 50,
      "outputs": [
        {
          "output_type": "execute_result",
          "data": {
            "text/plain": [
              "array(['Administração', 'Direitos humanos e sociais', 'Economia',\n",
              "       'Educação e cultura', 'Esporte', 'Infraestrutura',\n",
              "       'Meio ambiente e agronegócio', 'Saúde', 'Segurança pública',\n",
              "       'Transparência', 'Habitação', 'Meio ambiente', 'Mobilidade urbana',\n",
              "       'Turismo'], dtype=object)"
            ]
          },
          "metadata": {},
          "execution_count": 50
        }
      ]
    },
    {
      "cell_type": "markdown",
      "source": [
        "# Passo 4: analisar dados"
      ],
      "metadata": {
        "id": "LZL2ts2i2OBk"
      }
    },
    {
      "cell_type": "markdown",
      "source": [
        "Fazer balanço geral de status"
      ],
      "metadata": {
        "id": "iPkzmDEB2Uiq"
      }
    },
    {
      "cell_type": "code",
      "source": [
        "promessas_gov_dez_22['status'].value_counts(sort=True)"
      ],
      "metadata": {
        "id": "J5_iXp1p7Uuo",
        "colab": {
          "base_uri": "https://localhost:8080/"
        },
        "outputId": "38839f39-55d1-4819-ebd0-cd6a40f7bdd3"
      },
      "execution_count": 51,
      "outputs": [
        {
          "output_type": "execute_result",
          "data": {
            "text/plain": [
              "cumpriu         454\n",
              "nao-cumpriu     296\n",
              "em-parte        266\n",
              "nao-cumpriu      47\n",
              "                 36\n",
              "cumpriu          14\n",
              "em-parte          4\n",
              "nao-avaliada      1\n",
              "Name: status, dtype: int64"
            ]
          },
          "metadata": {},
          "execution_count": 51
        }
      ]
    },
    {
      "cell_type": "markdown",
      "source": [
        "Ver a proporção de status"
      ],
      "metadata": {
        "id": "kaIUXm_SxUKr"
      }
    },
    {
      "cell_type": "code",
      "source": [
        "promessas_gov_dez_22['status'].value_counts(normalize=True)"
      ],
      "metadata": {
        "colab": {
          "base_uri": "https://localhost:8080/"
        },
        "id": "dRFP7FXE1dzB",
        "outputId": "15fc4131-8ee7-435b-e80b-f5699aa34a73"
      },
      "execution_count": 52,
      "outputs": [
        {
          "output_type": "execute_result",
          "data": {
            "text/plain": [
              "cumpriu         0.406082\n",
              "nao-cumpriu     0.264758\n",
              "em-parte        0.237925\n",
              "nao-cumpriu     0.042039\n",
              "                0.032200\n",
              "cumpriu         0.012522\n",
              "em-parte        0.003578\n",
              "nao-avaliada    0.000894\n",
              "Name: status, dtype: float64"
            ]
          },
          "metadata": {},
          "execution_count": 52
        }
      ]
    },
    {
      "cell_type": "markdown",
      "source": [
        "Fazer status por tema"
      ],
      "metadata": {
        "id": "v7-1rXu32Z2O"
      }
    },
    {
      "cell_type": "code",
      "source": [
        "promessas_gov_dez_22.groupby(['tema','status'])['promessa'].count()"
      ],
      "metadata": {
        "colab": {
          "base_uri": "https://localhost:8080/"
        },
        "id": "FGaBw_H3xt6z",
        "outputId": "35cb3ede-02da-47f9-ad6a-5218dfe8f155"
      },
      "execution_count": 31,
      "outputs": [
        {
          "output_type": "execute_result",
          "data": {
            "text/plain": [
              "tema                         status           \n",
              "Administração                                      1\n",
              "                             cumpriu              47\n",
              "                             cumpriu               1\n",
              "                             em parte              1\n",
              "                             em-parte             23\n",
              "                             nao-cumpriu          19\n",
              "Direitos humanos e sociais                         2\n",
              "                             cumpriu              32\n",
              "                             cumpriu               1\n",
              "                             em-parte             15\n",
              "                             em-parte              1\n",
              "                             nao-avaliada          1\n",
              "                             nao-cumpriu          19\n",
              "                             nao-cumpriu           5\n",
              "Economia                                           4\n",
              "                             cumpriu              50\n",
              "                             cumpriu               3\n",
              "                             em-parte             13\n",
              "                             nao-cumpriu          28\n",
              "                             nao-cumpriu           5\n",
              "                             nao-cumpru            1\n",
              "                             não-cumpriu           1\n",
              "Educação e cultura                                 8\n",
              "                             cumpriu              87\n",
              "                             cumpriu               2\n",
              "                             em-parte             42\n",
              "                             nao-cumpriu          36\n",
              "                             nao-cumpriu          13\n",
              "                             nao-cumpriu-ainda     2\n",
              "                             não cumpriu           1\n",
              "Esporte                                            2\n",
              "                             cumpriu               7\n",
              "                             cumpriu               1\n",
              "                             em-parte              3\n",
              "                             nao-cumpriu           6\n",
              "                             nao-cumpriu           3\n",
              "Habitação                                          4\n",
              "                             cumpriu               4\n",
              "                             cumpriu               3\n",
              "                             em-parte              5\n",
              "                             nao-cumpriu           6\n",
              "Infraestrutura               cumpriu              33\n",
              "                             cumpriu               1\n",
              "                             em-parte             38\n",
              "                             em-parte              1\n",
              "                             nao-cumpriu          66\n",
              "                             nao-cumpriu           7\n",
              "                             nao-cumpriu-ainda     1\n",
              "Meio ambiente                                      4\n",
              "                             cumpriu              11\n",
              "                             em-parte              7\n",
              "                             nao-cumpriu           3\n",
              "Meio ambiente e agronegócio  cumpriu              29\n",
              "                             cumpriu               1\n",
              "                             em-parte              7\n",
              "                             nao-cumpriu           6\n",
              "                             nao-cumpriu           8\n",
              "Mobilidade urbana                                  1\n",
              "                             cumpriu               3\n",
              "                             em-parte              6\n",
              "                             nao-cumpriu          19\n",
              "                             nao-cumpriu           1\n",
              "Saúde                                              7\n",
              "                             cumpriu              52\n",
              "                             em-parte             48\n",
              "                             nao-cumpriu          37\n",
              "Segurança pública                                  3\n",
              "                             cumpiu                1\n",
              "                             cumpriu              69\n",
              "                             cumpriu               1\n",
              "                             em parte              1\n",
              "                             em-parte             38\n",
              "                             em-parte              1\n",
              "                             nao-cumpriu          30\n",
              "                             nao-cumpriu           3\n",
              "Transparência                cumpriu               4\n",
              "                             nao-cumpriu           1\n",
              "                             nao-cumpriu           1\n",
              "Turismo                      cumpriu               3\n",
              "                             em-parte              1\n",
              "                             nao-cumpriu           6\n",
              "Name: promessa, dtype: int64"
            ]
          },
          "metadata": {},
          "execution_count": 31
        }
      ]
    },
    {
      "cell_type": "markdown",
      "source": [
        "Fazer status por UF"
      ],
      "metadata": {
        "id": "hwbtLUiP2d8M"
      }
    },
    {
      "cell_type": "code",
      "source": [
        "promessas_gov_dez_22.groupby(['uf','status'])['promessa'].count()"
      ],
      "metadata": {
        "colab": {
          "base_uri": "https://localhost:8080/"
        },
        "id": "_xB6mEe_5y4t",
        "outputId": "0d2321b0-70eb-442c-937d-b441f052d344"
      },
      "execution_count": 33,
      "outputs": [
        {
          "output_type": "execute_result",
          "data": {
            "text/plain": [
              "uf  status           \n",
              "AC  cumpriu              14\n",
              "    em-parte              9\n",
              "    nao-cumpriu          45\n",
              "AM  cumpriu              28\n",
              "    em-parte              5\n",
              "    nao-cumpriu           8\n",
              "AP                       26\n",
              "    cumpriu              10\n",
              "BA  cumpriu              63\n",
              "    em-parte             35\n",
              "    nao-cumpriu          46\n",
              "CE  cumpriu              13\n",
              "    em-parte              4\n",
              "    nao-cumpriu           1\n",
              "    não cumpriu           1\n",
              "DF  cumpriu              17\n",
              "    em-parte             16\n",
              "    nao-cumpriu          24\n",
              "ES  cumpriu              17\n",
              "    cumpriu               1\n",
              "    em-parte              5\n",
              "    em-parte              3\n",
              "    nao-cumpriu           6\n",
              "    nao-cumpriu           1\n",
              "    nao-cumpru            1\n",
              "GO  cumpriu              10\n",
              "    em-parte              7\n",
              "    nao-cumpriu           4\n",
              "MA  cumpriu              22\n",
              "    em-parte             28\n",
              "    nao-cumpriu           7\n",
              "MG  cumpriu               3\n",
              "    em-parte              3\n",
              "    nao-cumpriu           8\n",
              "MS  cumpriu               4\n",
              "    cumpriu              13\n",
              "    em-parte              4\n",
              "    nao-cumpriu           3\n",
              "MT  cumpriu              16\n",
              "    em-parte              8\n",
              "    nao-cumpriu-ainda     3\n",
              "PB  cumpriu              35\n",
              "    em-parte             17\n",
              "    nao-cumpriu          31\n",
              "PE  cumpriu               8\n",
              "    em-parte             15\n",
              "    nao-cumpriu           7\n",
              "PI  cumpriu              22\n",
              "    em-parte             12\n",
              "    nao-avaliada          1\n",
              "    nao-cumpriu          18\n",
              "PR  cumpriu              18\n",
              "    em-parte              9\n",
              "    nao-cumpriu           8\n",
              "RJ                       10\n",
              "    cumpriu              12\n",
              "    em parte              1\n",
              "    em parte              1\n",
              "    em-parte              4\n",
              "    nao-cumpriu          30\n",
              "RN  cumpriu              22\n",
              "    em-parte             11\n",
              "    nao-cumpriu          20\n",
              "RO  cumpiu                1\n",
              "    cumpriu               6\n",
              "    em-parte              2\n",
              "    nao-cumpriu           4\n",
              "RR  cumpriu              14\n",
              "    em-parte             13\n",
              "    nao-cumpriu          14\n",
              "RS  cumpriu              12\n",
              "    em-parte              5\n",
              "SC  cumpriu               8\n",
              "    em-parte              3\n",
              "    nao-cumpriu           1\n",
              "    não-cumpriu           1\n",
              "SE  cumpriu              13\n",
              "    em-parte              6\n",
              "    nao-cumpriu           8\n",
              "SP  cumpriu              34\n",
              "    em-parte             17\n",
              "    nao-cumpriu          23\n",
              "TO  cumpriu              10\n",
              "    em-parte              8\n",
              "    nao-cumpriu          11\n",
              "Name: promessa, dtype: int64"
            ]
          },
          "metadata": {},
          "execution_count": 33
        }
      ]
    },
    {
      "cell_type": "code",
      "source": [],
      "metadata": {
        "id": "fFRMz0HX50_e"
      },
      "execution_count": null,
      "outputs": []
    }
  ]
}